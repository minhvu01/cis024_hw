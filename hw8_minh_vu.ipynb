{
 "cells": [
  {
   "cell_type": "markdown",
   "metadata": {},
   "source": [
    "\n",
    "# CIS024C - Fall 2017 - Thursday 5:30-9:25pm \n",
    "\n",
    "## Homework 8\n",
    "\n",
    "Homework 8 covers exercises that using external libraries and creating user defined libraries\n",
    "\n",
    "The below sites have some interesting and useful information on working with files\n",
    "\n",
    "https://docs.python.org/2/library/index.html\n",
    "\n",
    "You will need to download this notebook and use this as a starting point for your homework. You will just need to fill in the content of each code-block (cell) and execute. Once you have completed all the exercises, you will need to save and upload this to your github repository under a folder called hw7.\n",
    "\n",
    "Note also the exercises build on top of one another so you might be able to do the next exercise if you have not completed the previous exercise.\n",
    "\n",
    "Post any questions you have on our Slack at **cis-024c1.slack.com**\n",
    "\n",
    "** Slides ** for Week 8 can be found at \n",
    "\n",
    "https://docs.google.com/presentation/d/1HcWIuVciM0_L935Umi5rPgQHJYIv1bNfYnErfOelbtw/edit?usp=sharing\n",
    "\n",
    "**Please refer back to hw1 and slack for instructions on how to setup your computer for developing using Python.**"
   ]
  },
  {
   "cell_type": "markdown",
   "metadata": {},
   "source": [
    "### Helpful Jupyter Commands\n",
    "\n",
    "Below are some useful commands to know when using Jupyter\n",
    "\n",
    "1. You can add a new cell by clicking on the \"+\" icon on top.\n",
    "2. You can delete a cell by selecting that cell and clicking on the \"scissors\" icon on top.\n",
    "3. You can execute a cell by either pressing shift+enter or selecting the \"play\" button on top.\n",
    "4. You can create a new file in Jupyter via the File menu->New Notebook option. Make sure to select Python 2 when creating your notebook.\n",
    "5. Also, for your code blocks make sure that Code is selected instead of another option like Markdown.\n",
    "6. Use the Enter key to go to the next line in a cell to enter the next statement.\n",
    "7. You can clear results by clicking on the Cell menu item and selecting Current Output->Clear or All Output->Clear depending on whether you are trying to just clear the output for one cell or for all cells.\n",
    "8. In case your program has crashed for some reason (infinite loop, for example), you can restart your Python session by select Kernel in the menu and selecting Restart.\n"
   ]
  },
  {
   "cell_type": "markdown",
   "metadata": {},
   "source": [
    "#### Check Python Version"
   ]
  },
  {
   "cell_type": "code",
   "execution_count": 1,
   "metadata": {},
   "outputs": [
    {
     "name": "stderr",
     "output_type": "stream",
     "text": [
      "Python 2.7.13 :: Anaconda 4.4.0 (64-bit)\n"
     ]
    }
   ],
   "source": [
    "!python --version"
   ]
  },
  {
   "cell_type": "markdown",
   "metadata": {},
   "source": [
    "#### Sample Exercises with Exception Handling\n",
    "\n",
    "Week 8 Class Work can be found here\n",
    "\n",
    "https://github.com/cis024c/fall2017classwork/tree/master/week8"
   ]
  },
  {
   "cell_type": "markdown",
   "metadata": {},
   "source": [
    "**Exercise 1 - Testing your knowledge of External Libraries **\n",
    "\n",
    "Answer the below questions\n",
    "\n",
    "1. Name two benefits of using external libraries.\n",
    "2. What are the different ways of including an external library in a Python program?"
   ]
  },
  {
   "cell_type": "markdown",
   "metadata": {},
   "source": [
    "1. Vast collections of external libaries have been used and tested.  No need to reinvent the wheel.\n",
    "2. Ways to include external libaries:\n",
    "   2.1 import <libary_name>          # to including the whole directory or \n",
    "   2.2 from <libary_name> import <function_name>    # to import specific function"
   ]
  },
  {
   "cell_type": "markdown",
   "metadata": {},
   "source": [
    "#### Exercise 2 -  Using the math library\n",
    "\n",
    "Import the math library in your program and do the following\n",
    "\n",
    "1. Request the user to enter a number between 1 and 10\n",
    "2. Compute the log (math.log) of the number\n",
    "3. Compute teh factorial (math.factorial) of the number\n",
    "4. Compute the square root (math.sqrt) of the number\n",
    "5. Compute the sine (math.sin) of the number\n",
    "\n",
    "Refer to https://docs.python.org/2/library/math.html for more information on the math library\n"
   ]
  },
  {
   "cell_type": "code",
   "execution_count": 10,
   "metadata": {},
   "outputs": [
    {
     "name": "stdout",
     "output_type": "stream",
     "text": [
      "Please enter a number from 1 to 10: 5\n",
      "Log based 10 of 5 is 0.70\n",
      "Factorial of 5 is 120.00\n",
      "Square root of 5 is 2.24\n",
      "Sin of 5 is -0.96\n"
     ]
    }
   ],
   "source": [
    "### YOUR CODE GOES \n",
    "\n",
    "def getOneNumberFromUser(prompt):\n",
    "    ''' return single number from user with prompt from caller '''\n",
    "    return raw_input(prompt)\n",
    "\n",
    "import math\n",
    "# user_input = float(\"10.0\")\n",
    "user_input = float(getOneNumberFromUser(\"Please enter a number from 1 to 10: \"))\n",
    "print(\"Log based 10 of %d is %.2f\" % (user_input, math.log(user_input,10)))\n",
    "print(\"Factorial of %d is %.2f\" % (user_input, math.factorial(user_input)))\n",
    "print(\"Square root of %d is %.2f\" % (user_input, math.sqrt(user_input)))\n",
    "print(\"Sin of %d is %.2f\" % (user_input, math.sin(user_input)))\n",
    "\n",
    "### END CODE"
   ]
  },
  {
   "cell_type": "markdown",
   "metadata": {},
   "source": [
    "#### Exercise 3 - Random numbers\n",
    "\n",
    "Generate a list of 10 random numbers between 1 and 100. Use random.sample function. Write a program to then sort the list of numbers in ascending order."
   ]
  },
  {
   "cell_type": "code",
   "execution_count": 17,
   "metadata": {},
   "outputs": [
    {
     "name": "stdout",
     "output_type": "stream",
     "text": [
      "('Orignal list    : ', [94, 82, 20, 70, 93, 68, 5, 78, 61, 76])\n",
      "('Decending order : ', [94, 93, 82, 78, 76, 70, 68, 61, 20, 5])\n",
      "\n",
      "('Orignal list    : ', [58, 24, 25, 32, 67, 4, 99, 42, 57, 8])\n",
      "('Acsending order : ', [4, 8, 24, 25, 32, 42, 57, 58, 67, 99])\n"
     ]
    }
   ],
   "source": [
    "### YOUR CODE GOES BELOW\n",
    "\n",
    "def sortDecendingOrder(myLocalList, order):\n",
    "    ''' sort a list in order '''\n",
    "    sortedList = []\n",
    "    if order == \"decending\" :\n",
    "        while myLocalList:\n",
    "            maxNum = max(myLocalList)\n",
    "            #print(maxNum)\n",
    "            myLocalList.remove(maxNum)\n",
    "            sortedList.append(maxNum)\n",
    "    else:\n",
    "        while myLocalList:\n",
    "            minNum = min(myLocalList)\n",
    "            #print(minNum)\n",
    "            myLocalList.remove(minNum)\n",
    "            sortedList.append(minNum)\n",
    "    \n",
    "    return sortedList\n",
    "\n",
    "\n",
    "    \n",
    "# import random before using\n",
    "import random\n",
    "\n",
    "# sample(alist, numberOfElements): pick numberOfElements from alist\n",
    "myList = random.sample(range(0,101),10)\n",
    "print(\"Orignal list    : \", myList)\n",
    "print(\"Decending order : \", sortDecendingOrder(myList, \"decending\"))\n",
    "print(\"\")\n",
    "\n",
    "myList = random.sample(range(0,101),10)\n",
    "print(\"Orignal list    : \", myList)\n",
    "print(\"Acsending order : \", sortDecendingOrder(myList, \"ascending\"))\n",
    "\n",
    "    \n",
    "\n",
    "### END CODE"
   ]
  },
  {
   "cell_type": "markdown",
   "metadata": {},
   "source": [
    "#### Exercise 4 - Creating your own library\n",
    "\n",
    "Create a python module **helperfunctions.py** with the following functions.\n",
    "\n",
    "1. add - returns the sum of two numbers\n",
    "2. diff - returns the difference between two numbers\n",
    "3. product - returns the product of two numbers\n",
    "4. greatest - returns the greatest of two numbers.\n",
    "\n",
    "Import this module in your python program and use the functions your created on any two numbers and print the result.\n",
    "\n",
    "Note: Upload the **helperfunctions.py** module to your github folder along with the notebook file. You can also upload **helperfunctions.py** to Canvas if you are having trouble copying it to Github"
   ]
  },
  {
   "cell_type": "code",
   "execution_count": 11,
   "metadata": {},
   "outputs": [
    {
     "name": "stdout",
     "output_type": "stream",
     "text": [
      "Please enter a number: 3\n",
      "Please enter another number: 5\n",
      "3.00 + 5.00 = 8.00\n",
      "3.00 - 5.00 = -2.00\n",
      "3.00 * 5.00 = 15.00\n",
      "greater of 3.00 and 5.00 is 5.00\n"
     ]
    }
   ],
   "source": [
    "### YOUR CODE GOES BELOW\n",
    "\n",
    "## content of helperfuncstions.py\n",
    "\n",
    "#def add2Numbers(num1, num2):\n",
    "#    ''' added 2 numbers '''\n",
    "#    return num1 + num2\n",
    "\n",
    "#def subtract2Numbers(num1, num2):\n",
    "#    '''  subtract 2 numbers '''\n",
    "#    return num1 - num2\n",
    "\n",
    "#def product2Numbers(num1, num2):\n",
    "#    '''  product of 2 numbers '''\n",
    "#    return num1 * num2\n",
    "\n",
    "#def greatest2Numbers(num1, num2):\n",
    "#    ''' return greater number among 2 numbers'''\n",
    "#    if num1 >= num2:\n",
    "#        return num1\n",
    "#    else:\n",
    "#        return num2\n",
    "\n",
    "import helperfunctions as myfunc\n",
    "#int1 = 2\n",
    "#int2 = 3\n",
    "\n",
    "# call function defined problem 1\n",
    "int1 = getOneNumberFromUser(\"Please enter a number: \") \n",
    "int2 = getOneNumberFromUser(\"Please enter another number: \")\n",
    "\n",
    "num1 = float(int1)\n",
    "num2 = float(int2)\n",
    "print(\"%.2f + %.2f = %.2f\" % (num1, num2, myfunc.add2Numbers(num1, num2)))\n",
    "print(\"%.2f - %.2f = %.2f\" % (num1, num2, myfunc.subtract2Numbers(num1, num2)))\n",
    "print(\"%.2f * %.2f = %.2f\" % (num1, num2, myfunc.product2Numbers(num1, num2)))\n",
    "print(\"greater of %.2f and %.2f is %.2f\" % (num1, num2, myfunc.greatest2Numbers(num1, num2)))\n",
    "\n",
    "### END CODE"
   ]
  },
  {
   "cell_type": "markdown",
   "metadata": {},
   "source": [
    "#### Exercise 5 - Compressing a file using the zlib library\n",
    "\n",
    "Download the story Alice in Wonderland from the link below http://www.gutenberg.org/files/11/11.txt and save it as the file alice.txt\n",
    "\n",
    "Write a python program to open this file in your program. Use the zlib library to compress the contents of the file and write it back to another file call alice_compressed.txt\n",
    "\n",
    "Now, open the file alice_compressed.txt, decompress using the zlib library and display the results on the screen.\n",
    "\n",
    "Refer to Week 8 lecture slides and classwork for information on how to use zlib. \n"
   ]
  },
  {
   "cell_type": "code",
   "execution_count": 17,
   "metadata": {},
   "outputs": [
    {
     "name": "stdout",
     "output_type": "stream",
     "text": [
      "169859\n",
      "60515\n"
     ]
    }
   ],
   "source": [
    "### YOUR CODE GOES BELOW\n",
    "\n",
    "# import zlib for compression\n",
    "import zlib\n",
    "\n",
    "#fileContent = '''\n",
    "#Below is a set of optional exercises. These will not be graded but the solutions will be posted. \n",
    "#I would strongly encourage you to try these out if you are done with the mandatory homework\n",
    "#exercises to improve your understanding of python\n",
    "#'''\n",
    "\n",
    "# read content from original file\n",
    "fileName = \"alice.txt\"\n",
    "inputFileHandle = open(fileName,\"r\")\n",
    "fileContent = inputFileHandle.read()\n",
    "inputFileHandle.close()\n",
    "print(len(fileContent))\n",
    "\n",
    "# compress original content, write to new file.\n",
    "compressedFileName = \"alice_compressed.txt\"\n",
    "outputFileHandle = open(compressedFileName, \"w\")\n",
    "compressedContent = zlib.compress(fileContent)\n",
    "print(len(compressedContent))\n",
    "outputFileHandle.write(compressedContent)\n",
    "outFileHandle.close()\n",
    "\n",
    "# read compressed content, then decompress it\n",
    "inputFileHandle = open(compressedFileName,\"r\")\n",
    "compressedContent = inputFileHandle.read()\n",
    "fileContent = zlib.decompress(compressedContent)\n",
    "inputFileHandle.close()\n",
    "print(fileContent)\n",
    "\n",
    "\n",
    "### END CODE"
   ]
  },
  {
   "cell_type": "markdown",
   "metadata": {},
   "source": [
    "## OPTIONAL EXERCISES\n",
    "\n",
    "Below is a set of optional exercises. These will not be graded but the solutions will be posted. I would strongly encourage you to try these out if you are done with the mandatory homework exercises to improve your understanding of python."
   ]
  },
  {
   "cell_type": "markdown",
   "metadata": {},
   "source": [
    "#### Exercise 6\n",
    "\n",
    "Recall the similarity function to compute the edit distance in homework 7 and classwork 7. \n",
    "\n",
    "Create a Python module using the similarity function. Write a Python program to invoke the similarity function on any word entered by the user."
   ]
  },
  {
   "cell_type": "code",
   "execution_count": null,
   "metadata": {},
   "outputs": [],
   "source": [
    "### YOUR CODE GOES BELOW\n",
    "\n",
    "## could you please go over this example in class.\n",
    "## This subject was covered when you had a day off.\n",
    "    \n",
    "### END CODE"
   ]
  },
  {
   "cell_type": "markdown",
   "metadata": {},
   "source": [
    "#### Exercise 7\n",
    "\n",
    "Write a Python program using the urrlib2 library to print all the URLs present on the website http://www.cnn.com\n",
    "\n",
    "Note that you will need to search for href tags in order to locate links. An easier option is to use an HTML parser module to parse the website and then you can query it for a set of links. \n",
    "\n"
   ]
  },
  {
   "cell_type": "code",
   "execution_count": 6,
   "metadata": {},
   "outputs": [],
   "source": [
    "### YOUR CODE GOES BELOW\n",
    "\n",
    "## \n",
    "\n",
    "### END CODE"
   ]
  },
  {
   "cell_type": "markdown",
   "metadata": {},
   "source": [
    "#### Exercise 8\n",
    "\n",
    "Write a Python program to use the Twitter library tweepy to retrieve a set of tweets from the internet.\n",
    "\n",
    "More information on how to do this can be found here\n",
    "\n",
    "http://docs.tweepy.org/en/v3.5.0/"
   ]
  },
  {
   "cell_type": "code",
   "execution_count": 7,
   "metadata": {},
   "outputs": [],
   "source": [
    "### YOUR CODE GOES BELOW\n",
    "\n",
    "\n",
    "### END CODE"
   ]
  },
  {
   "cell_type": "code",
   "execution_count": null,
   "metadata": {
    "collapsed": true
   },
   "outputs": [],
   "source": []
  }
 ],
 "metadata": {
  "kernelspec": {
   "display_name": "Python 2",
   "language": "python",
   "name": "python2"
  },
  "language_info": {
   "codemirror_mode": {
    "name": "ipython",
    "version": 2
   },
   "file_extension": ".py",
   "mimetype": "text/x-python",
   "name": "python",
   "nbconvert_exporter": "python",
   "pygments_lexer": "ipython2",
   "version": "2.7.13"
  }
 },
 "nbformat": 4,
 "nbformat_minor": 2
}
