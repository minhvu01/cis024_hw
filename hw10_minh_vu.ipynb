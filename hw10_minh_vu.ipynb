{
 "cells": [
  {
   "cell_type": "markdown",
   "metadata": {},
   "source": [
    "\n",
    "# CIS024C - Fall 2017 - Thursday 5:30-9:25pm \n",
    "\n",
    "## Homework 10\n",
    "\n",
    "Homework 10 covers object oriented programming in Python\n",
    "\n",
    "The below sites have some interesting and useful information on working with files\n",
    "\n",
    "https://drive.google.com/open?id=1OrcpXEmhvgcJxSlchIBsvmXST0lG_uKx\n",
    "http://www.tutorialspoint.com/python/python_classes_objects.htm\n",
    "\n",
    "You will need to download this notebook and use this as a starting point for your homework. You will just need to fill in the content of each code-block (cell) and execute. Once you have completed all the exercises, you will need to save and upload this to your github repository under a folder called hw10.\n",
    "\n",
    "Note also the exercises build on top of one another so you might be able to do the next exercise if you have not completed the previous exercise.\n",
    "\n",
    "Post any questions you have on our Slack at **cis-024c1.slack.com**\n",
    "\n",
    "** Slides ** for Week 10 can be found at \n",
    "\n",
    "https://docs.google.com/presentation/d/1AigvCKV1yb3PrrcT5xt3IqyAwGpv6IKMNWYUiQ2Oy6k/edit?usp=sharing\n",
    "\n",
    "**Please refer back to hw1 and slack for instructions on how to setup your computer for developing using Python.**"
   ]
  },
  {
   "cell_type": "markdown",
   "metadata": {},
   "source": [
    "### Helpful Jupyter Commands\n",
    "\n",
    "Below are some useful commands to know when using Jupyter\n",
    "\n",
    "1. You can add a new cell by clicking on the \"+\" icon on top.\n",
    "2. You can delete a cell by selecting that cell and clicking on the \"scissors\" icon on top.\n",
    "3. You can execute a cell by either pressing shift+enter or selecting the \"play\" button on top.\n",
    "4. You can create a new file in Jupyter via the File menu->New Notebook option. Make sure to select Python 2 when creating your notebook.\n",
    "5. Also, for your code blocks make sure that Code is selected instead of another option like Markdown.\n",
    "6. Use the Enter key to go to the next line in a cell to enter the next statement.\n",
    "7. You can clear results by clicking on the Cell menu item and selecting Current Output->Clear or All Output->Clear depending on whether you are trying to just clear the output for one cell or for all cells.\n",
    "8. In case your program has crashed for some reason (infinite loop, for example), you can restart your Python session by select Kernel in the menu and selecting Restart.\n"
   ]
  },
  {
   "cell_type": "markdown",
   "metadata": {},
   "source": [
    "#### Check Python Version"
   ]
  },
  {
   "cell_type": "code",
   "execution_count": 21,
   "metadata": {},
   "outputs": [
    {
     "name": "stderr",
     "output_type": "stream",
     "text": [
      "Python 2.7.13 :: Anaconda 4.4.0 (64-bit)\n"
     ]
    }
   ],
   "source": [
    "!python --version"
   ]
  },
  {
   "cell_type": "markdown",
   "metadata": {},
   "source": [
    "#### Sample Exercises with Exception Handling\n",
    "\n",
    "Week 10 Class Work can be found here\n",
    "\n",
    "https://github.com/cis024c/fall2017classwork/blob/master/week10/week10_classwork.ipynb"
   ]
  },
  {
   "cell_type": "markdown",
   "metadata": {},
   "source": [
    "**Exercise 1 - Testing your knowledge of object oriented programming concepts **\n",
    "\n",
    "Answer the below questions\n",
    "\n",
    "1. Why do we need classes?\n",
    "2. What is encapsulation?"
   ]
  },
  {
   "cell_type": "markdown",
   "metadata": {},
   "source": [
    "1. Reusability of code by grouping functions together\n",
    "2. Encapsulation is hiding data."
   ]
  },
  {
   "cell_type": "markdown",
   "metadata": {},
   "source": [
    "** Exercise 2 - Class creation **\n",
    "\n",
    "Create a Python class named **Employee** with the following attributes and methods\n",
    "\n",
    "Data members\n",
    "```\n",
    "1. employeeName  - type string\n",
    "2. employeeAge  - type int\n",
    "3. employeeSalary - type float\n",
    "```\n",
    "\n",
    "Methods:\n",
    "```\n",
    "1. getEmployee - returns employee name\n",
    "2. getEmployeeAge - gets the employee age\n",
    "3. getEmployeeSalary - returns the employee salary\n",
    "4. __init__ - initialize method accepts the name, age and salary of the employee\n",
    "```\n",
    "\n",
    "Create an object of type Employee and initialize with arbitrary values. Invoke the get methods and display the result."
   ]
  },
  {
   "cell_type": "code",
   "execution_count": 14,
   "metadata": {},
   "outputs": [
    {
     "name": "stdout",
     "output_type": "stream",
     "text": [
      "Minh Vu\n",
      "35\n",
      "50000\n",
      "('Access atribute employeeSalary directly: ', 50000)\n"
     ]
    }
   ],
   "source": [
    "### YOUR CODE GOES BELOW\n",
    "\n",
    "class Employee(object):\n",
    "    def __init__(self, employeeName, employeeAge, employeeSalary):\n",
    "        ''' initialize '''\n",
    "        self.employeeName = employeeName\n",
    "        self.employeeAge = employeeAge\n",
    "        self.employeeSalary = employeeSalary\n",
    "        \n",
    "    def getEmployee(self):\n",
    "        ''' returns employee name '''\n",
    "        return self.employeeName\n",
    "    \n",
    "    def getEmployeeAge(self):\n",
    "        ''' returns employee age '''\n",
    "        return self.employeeAge\n",
    "    \n",
    "    def getEmployeeSalary(self):\n",
    "        ''' returns employee salary '''\n",
    "        return self.employeeSalary\n",
    "    \n",
    "    \n",
    "em1 = Employee(\"Minh Vu\", 35, 50000)\n",
    "print(em1.getEmployee())\n",
    "print(em1.getEmployeeAge())\n",
    "print(em1.getEmployeeSalary())\n",
    "\n",
    "# this statement tries to access attribute directly\n",
    "print(\"Access atribute employeeSalary directly: \",em1.employeeSalary)\n",
    "### END CODE"
   ]
  },
  {
   "cell_type": "markdown",
   "metadata": {},
   "source": [
    "#### Exercise 3 - Private members\n",
    "\n",
    "In the above **Employee** class make the employeeName, employeeAge and employeeSalary private so that their access is restricted to only within the class."
   ]
  },
  {
   "cell_type": "code",
   "execution_count": 18,
   "metadata": {},
   "outputs": [
    {
     "name": "stdout",
     "output_type": "stream",
     "text": [
      "('name: ', 'Harry Potter')\n",
      "('Age: ', 23)\n",
      "('Salary: ', 70000)\n"
     ]
    }
   ],
   "source": [
    "### YOUR CODE GOES BELOW\n",
    "\n",
    "## putting double underscore infront of attribute make them private\n",
    "class Employee(object):\n",
    "    \n",
    "    def __init__(self, employeeName, employeeAge, employeeSalary):\n",
    "        ''' initialize '''\n",
    "        self.__employeeName = employeeName\n",
    "        self.__employeeAge = employeeAge\n",
    "        self.__employeeSalary = employeeSalary\n",
    "        \n",
    "    def getEmployee(self):\n",
    "        ''' returns employee name '''\n",
    "        return self.__employeeName\n",
    "    \n",
    "    def getEmployeeAge(self):\n",
    "        ''' returns employee age '''\n",
    "        return self.__employeeAge\n",
    "    \n",
    "    def getEmployeeSalary(self):\n",
    "        ''' returns employee salary '''\n",
    "        return self.__employeeSalary\n",
    "    \n",
    "    \n",
    "em2 = Employee(\"Harry Potter\", 23, 70000)\n",
    "print(\"name: \",em2.getEmployee())\n",
    "print(\"Age: \",em2.getEmployeeAge())\n",
    "print(\"Salary: \",em2.getEmployeeSalary())\n",
    "\n",
    "\n",
    "# this statement tries to access attribute directly to prove they are private now\n",
    "# print(\"Access atribute employeeSalary directly: \",em2.__employeeSalary)\n",
    "\n",
    "### END CODE"
   ]
  },
  {
   "cell_type": "markdown",
   "metadata": {},
   "source": [
    "#### Exercise 4 - Adding setters and working with a list of Employees\n",
    "\n",
    "In the **Employee** class add the following methods\n",
    "\n",
    "```\n",
    "1. setEmployeeAge - accepts age and sets it in the object\n",
    "2. setEmployeeName - accepts employee name and sets it in the object\n",
    "3. setEmployeeSalary - accepts employee salary and sets it i nthe object\n",
    "```\n",
    "\n",
    "Create a list of employees called employeeList. Initialize the list with three objects of type Employee. Initialize the object with the values \"None\" for employeeName, 0 for employeeAge and 0 for employeeSalary.\n",
    "\n",
    "Loop  through each employee in the employeeList. Each time, request the user to enter the name, age and salary of a different employee. Use the set methods to set the name, age and salary for each employee in the employeeList.\n",
    "\n",
    "Loop through each employee in the employeeList. Display the name, age and salary of each employee."
   ]
  },
  {
   "cell_type": "code",
   "execution_count": 20,
   "metadata": {},
   "outputs": [
    {
     "name": "stdout",
     "output_type": "stream",
     "text": [
      "Enter name of employee 1:Minh Vu\n",
      "Enter age for Minh Vu:35\n",
      "Enter salary for Minh Vu:50000\n",
      "\n",
      "Enter name of employee 2:Phuong Nguyen\n",
      "Enter age for Phuong Nguyen:34\n",
      "Enter salary for Phuong Nguyen:40000\n",
      "\n",
      "Enter name of employee 3:Harry Potter\n",
      "Enter age for Harry Potter:18\n",
      "Enter salary for Harry Potter:20000\n",
      "\n",
      "Name: Minh Vu, Age: 35, Salary: 50000.00\n",
      "Name: Phuong Nguyen, Age: 34, Salary: 40000.00\n",
      "Name: Harry Potter, Age: 18, Salary: 20000.00\n"
     ]
    }
   ],
   "source": [
    "### YOUR CODE GOES BELOW\n",
    "\n",
    "class Employee(object):\n",
    "    \n",
    "    def __init__(self, employeeName, employeeAge, employeeSalary):\n",
    "        ''' initialize '''\n",
    "        self.__employeeName = employeeName\n",
    "        self.__employeeAge = employeeAge\n",
    "        self.__employeeSalary = employeeSalary\n",
    "    \n",
    "    def setEmployee(self,employeeName):\n",
    "        ''' set employee name '''\n",
    "        self.__employeeName = employeeName\n",
    "    \n",
    "    def setEmployeeAge(self,employeeAge):\n",
    "        ''' set employee age '''\n",
    "        self.__employeeAge = employeeAge\n",
    "    \n",
    "    def setEmployeeSalary(self,employeeSalary):\n",
    "        ''' set employee salary '''\n",
    "        self.__employeeSalary = employeeSalary\n",
    "        \n",
    "    def getEmployee(self):\n",
    "        ''' returns employee name '''\n",
    "        return self.__employeeName\n",
    "    \n",
    "    def getEmployeeAge(self):\n",
    "        ''' returns employee age '''\n",
    "        return self.__employeeAge\n",
    "    \n",
    "    def getEmployeeSalary(self):\n",
    "        ''' returns employee salary '''\n",
    "        return self.__employeeSalary\n",
    "    \n",
    "    def __str__(self):\n",
    "        result = \"Name: %s, Age: %d, Salary: %.2f\" % (self.__employeeName, self.__employeeAge, self.__employeeSalary)\n",
    "        return result\n",
    "\n",
    "em1 = Employee(\"None\", 0, 0.0)\n",
    "em2 = Employee(\"None\", 0, 0.0)\n",
    "em3 = Employee(\"None\", 0, 0.0)\n",
    "\n",
    "employeeList = [em1, em2, em3]\n",
    "\n",
    "############################################\n",
    "## when first starts, no employee name yet,\n",
    "## but after getting employee name, \n",
    "## it will be used in following raw_input\n",
    "############################################\n",
    "for i in range(0,len(employeeList)):\n",
    "    em = employeeList[i]\n",
    "    if(em.getEmployee())==\"None\":\n",
    "        myPrompt = \"Enter name of employee %d:\" % (i+1)\n",
    "        name = raw_input(myPrompt)\n",
    "        em.setEmployee(name)\n",
    "        if(em.getEmployeeAge() == 0):\n",
    "            myPrompt = \"Enter age for %s:\" % (em.getEmployee())\n",
    "            age = int(raw_input(myPrompt))\n",
    "            em.setEmployeeAge(age)\n",
    "        if(em.getEmployeeSalary() == 0):\n",
    "            myPrompt = \"Enter salary for %s:\" % (em.getEmployee())\n",
    "            salary = float(raw_input(myPrompt))\n",
    "            em.setEmployeeSalary(salary)\n",
    "        \n",
    "        # print empty line after each employee, easy to read.\n",
    "        print(\"\")\n",
    "    \n",
    "  \n",
    "for em in employeeList:\n",
    "    print(em)\n",
    "\n",
    "### END CODE"
   ]
  },
  {
   "cell_type": "code",
   "execution_count": null,
   "metadata": {
    "collapsed": true
   },
   "outputs": [],
   "source": [
    "#### Exercise 5 -  Creating a Python calculator class\n",
    "\n",
    "Create a Python class called Calculator. \n",
    "\n",
    "The class has the following data members\n",
    "\n",
    "```\n",
    "1. number1 - type float\n",
    "2. number2 - type float\n",
    "```\n",
    "\n",
    "The class must have the below methods\n",
    "\n",
    "```\n",
    "1. add - adds two numbers and returns the result\n",
    "2. subtract - subtracts the first number from the second number and returns the result\n",
    "3. multiply - multiply two numbers and returns the result\n",
    "4. divide - divide the first number by the second number and returns the result\n",
    "5. __init__ - accepts two numbers and uses those numbers to initialize number1 and number2 respectively\n",
    "```\n",
    "\n",
    "Create an object of the Calculator class. Initialize it with any two arbitrary numbers. Invoke the methods add, subtract, multiple and divide and display the result\n",
    "\n",
    "\n"
   ]
  },
  {
   "cell_type": "code",
   "execution_count": 18,
   "metadata": {},
   "outputs": [
    {
     "name": "stdout",
     "output_type": "stream",
     "text": [
      "('Using methods: ', 9.0, -1.0, 20.0, 0.8)\n",
      "\n",
      "Use overload\n",
      "add: 4.00 + 5.00 = 9.00\n",
      "subtract: 4.00 - 5.00 = -1.00\n",
      "multiply: 4.00 * 5.00 = 20.00\n",
      "divide: 4.00 / 5.00 = 0.80\n",
      "\n"
     ]
    }
   ],
   "source": [
    "### YOUR CODE GOES \n",
    "\n",
    "class Calculator(object):\n",
    "    def __init__(self,n1,n2):\n",
    "        self.__num1 = float(n1)\n",
    "        self.__num2 = float(n2)\n",
    "        \n",
    "    def add(self):\n",
    "        return self.__num1+self.__num2\n",
    "    \n",
    "    def subtract(self):\n",
    "        return self.__num1-self.__num2\n",
    "    \n",
    "    def multiply(self):\n",
    "        return self.__num1 * self.__num2\n",
    "    \n",
    "    def divide(self):\n",
    "        ## assume no 0 passed in, otherwise will try and except\n",
    "        return self.__num1/self.__num2\n",
    "    \n",
    "    def __str__(self):\n",
    "        addResult = \"add: %.2f + %.2f = %.2f\\n\" % (self.__num1, self.__num2, self.add())\n",
    "        subtractResult = \"subtract: %.2f - %.2f = %.2f\\n\" % (self.__num1, self.__num2, self.subtract())\n",
    "        multiplyResult = \"multiply: %.2f * %.2f = %.2f\\n\" % (self.__num1, self.__num2, self.multiply())\n",
    "        divideResult = \"divide: %.2f / %.2f = %.2f\\n\" % (self.__num1, self.__num2, self.divide())\n",
    "        result = addResult + subtractResult + multiplyResult + divideResult\n",
    "        return result\n",
    "\n",
    "cal1 = Calculator(4,5)\n",
    "print(\"Using methods: \", cal1.add(),cal1.subtract(),cal1.multiply(),cal1.divide())\n",
    "print(\"\\nUse overload\")\n",
    "print(cal1)\n",
    "\n",
    "### END CODE"
   ]
  },
  {
   "cell_type": "code",
   "execution_count": null,
   "metadata": {
    "collapsed": true
   },
   "outputs": [],
   "source": []
  }
 ],
 "metadata": {
  "kernelspec": {
   "display_name": "Python 2",
   "language": "python",
   "name": "python2"
  },
  "language_info": {
   "codemirror_mode": {
    "name": "ipython",
    "version": 2
   },
   "file_extension": ".py",
   "mimetype": "text/x-python",
   "name": "python",
   "nbconvert_exporter": "python",
   "pygments_lexer": "ipython2",
   "version": "2.7.13"
  }
 },
 "nbformat": 4,
 "nbformat_minor": 2
}
