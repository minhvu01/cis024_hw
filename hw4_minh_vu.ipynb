{
 "cells": [
  {
   "cell_type": "markdown",
   "metadata": {},
   "source": [
    "\n",
    "# CIS024C - Fall 2017 - Thursday 5:30-9:25pm \n",
    "\n",
    "## Homework 4\n",
    "\n",
    "Homework 4 covers exercises in basic collection objects in Python - lists, tuples and dictionaries.\n",
    "\n",
    "The below sites have some interesting and useful information on these objects.\n",
    "\n",
    "http://sthurlow.com/python/lesson06/\n",
    "https://docs.python.org/2/tutorial/datastructures.html\n",
    "\n",
    "You will need to download this notebook and use this as a starting point for your homework. You will just need to fill in the content of each code-block (cell) and execute. Once you have completed all the exercises, you will need to save and upload this to your github repository under a folder called hw3.\n",
    "\n",
    "Note also the exercises build on top of one another so you might be able to do the next exercise if you have not completed the previous exercise.\n",
    "\n",
    "Post any questions you have on our Slack at **cis-024c1.slack.com**\n",
    "\n",
    "<h3><font color='red'>\n",
    "ALL THE WORK THAT WE DID IN CLASS DURING WEEK 4 IS NOW IN GITHUB AT THE BELOW LINK\n",
    "</font></h3>\n",
    "\n",
    "https://github.com/cis024c/fall2017classwork/blob/master/week4/week4_classwork.ipynb\n",
    "\n",
    "** Slides ** for Week 4 can be found at https://docs.google.com/presentation/d/1xhyxix3nF5A26qQTe1gSYJcYjUIipnz9BtZO04GvgJ4/edit?usp=sharing\n",
    "\n",
    "**Please refer back to hw1 and slack for instructions on how to setup your computer for developing using Python.**"
   ]
  },
  {
   "cell_type": "markdown",
   "metadata": {},
   "source": [
    "### Helpful Jupyter Commands\n",
    "\n",
    "Below are some useful commands to know when using Jupyter\n",
    "\n",
    "1. You can add a new cell by clicking on the \"+\" icon on top.\n",
    "2. You can delete a cell by selecting that cell and clicking on the \"scissors\" icon on top.\n",
    "3. You can execute a cell by either pressing shift+enter or selecting the \"play\" button on top.\n",
    "4. You can create a new file in Jupyter via the File menu->New Notebook option. Make sure to select Python 2 when creating your notebook.\n",
    "5. Also, for your code blocks make sure that Code is selected instead of another option like Markdown.\n",
    "6. Use the Enter key to go to the next line in a cell to enter the next statement.\n",
    "7. You can clear results by clicking on the Cell menu item and selecting Current Output->Clear or All Output->Clear depending on whether you are trying to just clear the output for one cell or for all cells.\n",
    "8. In case your program has crashed for some reason (infinite loop, for example), you can restart your Python session by select Kernel in the menu and selecting Restart.\n"
   ]
  },
  {
   "cell_type": "markdown",
   "metadata": {},
   "source": [
    "#### Check Python Version"
   ]
  },
  {
   "cell_type": "code",
   "execution_count": 50,
   "metadata": {},
   "outputs": [
    {
     "name": "stderr",
     "output_type": "stream",
     "text": [
      "Python 2.7.13 :: Anaconda 4.4.0 (64-bit)\n"
     ]
    }
   ],
   "source": [
    "!python --version"
   ]
  },
  {
   "cell_type": "markdown",
   "metadata": {},
   "source": [
    "#### Sample Exercises with conditionals and repetitions\n",
    "\n",
    "Refer to Week 4 classwork for sample exercises - https://github.com/cis024c/fall2017classwork/blob/master/week4/week4_classwork.ipynb"
   ]
  },
  {
   "cell_type": "markdown",
   "metadata": {},
   "source": [
    "**Exercise 1 - Testing your knowledge of lists, tuples and dictionaries**\n",
    "\n",
    "Answer the below questions\n",
    "\n",
    "1. What is the main difference between a list and a tuple\n",
    "2. How does a dictionary object differ from a list."
   ]
  },
  {
   "cell_type": "markdown",
   "metadata": {},
   "source": [
    "1. list is mutable, tuple is not.\n",
    "2. list is a collection of objects stored in certain order.  Dictionary is also a collection of objects having key/value pair.  How data stored in dictionary is not important."
   ]
  },
  {
   "cell_type": "markdown",
   "metadata": {},
   "source": [
    "#### Exercise 2 -  Initializing a list, tuple and dictionary\n",
    "\n",
    "1. Create a list object with a set of any 10 numbers. Print the result\n",
    "2. Create a tuple object with a set of 10 numbers. Print the result\n",
    "3. Create a dictionary object with a set of 10 numbers. Print the result"
   ]
  },
  {
   "cell_type": "code",
   "execution_count": 53,
   "metadata": {},
   "outputs": [
    {
     "name": "stdout",
     "output_type": "stream",
     "text": [
      "[0, 1, 2, 3, 4, 5, 6, 7, 8, 9, 10] <type 'list'>\n",
      "(10, 9, 8, 7, 6, 5, 4, 3, 2, 1, 0) <type 'tuple'>\n",
      "0 0\n",
      "1 2\n",
      "2 4\n",
      "3 6\n",
      "4 8\n",
      "5 10\n",
      "6 12\n",
      "7 14\n",
      "8 16\n",
      "9 18\n",
      "10 20\n",
      "{0: 0, 1: 2, 2: 4, 3: 6, 4: 8, 5: 10, 6: 12, 7: 14, 8: 16, 9: 18, 10: 20}\n"
     ]
    }
   ],
   "source": [
    "### YOUR CODE GOES \n",
    "\n",
    "# list of ten numbers from 0 to 10\n",
    "mylist= range(0,11)\n",
    "print mylist, type(mylist)\n",
    "\n",
    "# reverse above list, and define as tuple\n",
    "mytuple = tuple((mylist[::-1]))\n",
    "print mytuple, type(mytuple)\n",
    "\n",
    "# initialize empty diectionary\n",
    "mydictionary = {}\n",
    "\n",
    "keys = range(0,11)\n",
    "for i in keys:\n",
    "    mydictionary[i] = 2*i\n",
    "    print(\"%s %s\" % (i, mydictionary[i]))\n",
    "\n",
    "print mydictionary\n",
    "### END CODE"
   ]
  },
  {
   "cell_type": "markdown",
   "metadata": {},
   "source": [
    "#### Exercise 3 - Displaying values in a list object\n",
    "\n",
    "Create a list object with 10 arbitrary numbers. Use a ** for loop ** to display every other element. \n",
    "\n",
    "**Example:**\n",
    "\n",
    "If your list has [2,3,4,5,6], then you will need to display [2,4,6]\n",
    "\n",
    "**Hint:** Make use the last step parameter in the range function to do this"
   ]
  },
  {
   "cell_type": "code",
   "execution_count": 71,
   "metadata": {},
   "outputs": [
    {
     "name": "stdout",
     "output_type": "stream",
     "text": [
      "[0, 1, 2, 3, 4, 5, 6, 7, 8, 9]\n",
      "0\n",
      "2\n",
      "4\n",
      "6\n",
      "8\n"
     ]
    }
   ],
   "source": [
    "### YOUR CODE GOES BELOW\n",
    "# generated list of 10 number from \"start\" to \n",
    "start = 0   # start used in range\n",
    "totalNumbers = 10  # how many numbers in the list\n",
    "end = start + totalNumbers   # end = start + totalNumbers\n",
    "numbers = range(start,end)\n",
    "\n",
    "step = 2  # step for every other ones.\n",
    "print numbers  # for testing\n",
    "for i in range(0, totalNumbers, step):\n",
    "    print(numbers[i])\n",
    "\n",
    "### END CODE"
   ]
  },
  {
   "cell_type": "markdown",
   "metadata": {},
   "source": [
    "#### Exercise 4 - Sorting a list of strings\n",
    "\n",
    "Ask the user to enter a list of names. Sort the names in ascending order. \n",
    "\n",
    "Hint: Use the same logic that we used in class to sort numbers. When used with strings, Python will sort the strings in alphabetical order"
   ]
  },
  {
   "cell_type": "code",
   "execution_count": 18,
   "metadata": {},
   "outputs": [
    {
     "name": "stdout",
     "output_type": "stream",
     "text": [
      "original names: ['sam', 'kelly', 'peter', 'edward']\n",
      "sorted names: ['edward', 'kelly', 'peter', 'sam']\n"
     ]
    }
   ],
   "source": [
    "### YOUR CODE GOES BELOW\n",
    "names = [\"sam\", \"kelly\", \"peter\",\"edward\"]\n",
    "print(\"original names: %s\" % (names))\n",
    "sortedNames = []\n",
    "\n",
    "while(len(names)>0):\n",
    "    name = min(names)\n",
    "    names.remove(name)\n",
    "    sortedNames.append(name) \n",
    "\n",
    "print(\"sorted names: %s\" % (sortedNames))\n",
    "### END CODE"
   ]
  },
  {
   "cell_type": "markdown",
   "metadata": {},
   "source": [
    "#### Exercise 5 - Accessing values in a dictionary object\n",
    "\n",
    "Initialize a dictionary object with the below key, value pairs\n",
    "\n",
    " Key  | Value\n",
    " -----|------\n",
    "1|Harry\n",
    "2|Sally\n",
    "3|Joe\n",
    "4|Mathew\n",
    "\n",
    "Ask the user to enter a key between 1 and 4.\n",
    "\n",
    "Display the corresponding value in the dictionary\n",
    "\n",
    "\n"
   ]
  },
  {
   "cell_type": "code",
   "execution_count": 22,
   "metadata": {},
   "outputs": [
    {
     "name": "stdout",
     "output_type": "stream",
     "text": [
      "Please enter a number from 1 to 4: 4\n",
      "4 Mathew\n"
     ]
    }
   ],
   "source": [
    "### YOUR CODE GOES BELOW\n",
    "\n",
    "names = {1:\"Harry\", 2:\"Sally\", 3:\"Joe\", 4:\"Mathew\"}\n",
    "number = raw_input(\"Please enter a number from 1 to 4: \")\n",
    "print(\"%s %s\" %(number, names[int(number)]))\n",
    "\n",
    "### END CODE"
   ]
  },
  {
   "cell_type": "markdown",
   "metadata": {},
   "source": [
    "## OPTIONAL EXERCISES\n",
    "\n",
    "Below is a set of optional exercises. These will not be graded but the solutions will be posted. I would strongly encourage you to try these out if you are done with the mandatory homework exercises to improve your understanding of python."
   ]
  },
  {
   "cell_type": "markdown",
   "metadata": {},
   "source": [
    "#### Exercise 6\n",
    "\n",
    "Write a Python script to check if a given key already exists in a dictionary\n",
    "\n",
    "**Hint**: Use the **get** method to determine if a key exists"
   ]
  },
  {
   "cell_type": "code",
   "execution_count": 32,
   "metadata": {},
   "outputs": [
    {
     "name": "stdout",
     "output_type": "stream",
     "text": [
      "Enter a number from 1 to 4 as a key: 5\n",
      "key 5 does not exist\n"
     ]
    }
   ],
   "source": [
    "### YOUR CODE GOES BELOW\n",
    "\n",
    "# keys are interger,\n",
    "mydictionary = {1:\"Harry\", 2:\"Sally\", 3:\"Joe\", 4:\"Mathew\"}\n",
    "\n",
    "# raw_input returns a string.\n",
    "key = int(raw_input(\"Enter a number from 1 to 4 as a key: \"))\n",
    "\n",
    "#checking if key exists\n",
    "if mydictionary.get(key):\n",
    "    print(\"key %s exists\" % (key))\n",
    "else:\n",
    "    print(\"key %s does not exist\" % (key))\n",
    "\n",
    "### END CODE"
   ]
  },
  {
   "cell_type": "markdown",
   "metadata": {},
   "source": [
    "#### Exercise 7\n",
    "\n",
    "Write a Python script to create a dictionary that contains a sequence of numbers from 1 to n and their squares. Ask the user to enter n. Display the resulting dictionary.\n",
    "\n",
    "**Example**\n",
    "If user enters 5, then your dictionary will look like\n",
    "\n",
    "{1:1,2:4,3:9:4:16,5:25}\n",
    "\n",
    "**Hint** You will need to assign new values to the dictionary to create the dictionary object"
   ]
  },
  {
   "cell_type": "code",
   "execution_count": 37,
   "metadata": {},
   "outputs": [
    {
     "name": "stdout",
     "output_type": "stream",
     "text": [
      "Enter a number: 10\n",
      "{1: 1, 2: 4, 3: 9, 4: 16, 5: 25, 6: 36, 7: 49, 8: 64, 9: 81, 10: 100}\n"
     ]
    }
   ],
   "source": [
    "### YOUR CODE GOES BELOW\n",
    "number = int(raw_input(\"Enter a number: \"))\n",
    "numbers = range(1,number+1)\n",
    "squareValues = {}  # empty dictionary\n",
    "for i in numbers:\n",
    "    squareValues[i] = i * i\n",
    "    \n",
    "print(squareValues)\n",
    "\n",
    "### END CODE"
   ]
  },
  {
   "cell_type": "markdown",
   "metadata": {},
   "source": [
    "#### Exercise 8\n",
    "\n",
    "Refer to Exercise 7 for this problem.\n",
    "\n",
    "Write a python program to sum all the values in the above dictionary (n:n^2). Display the resulting sum\n"
   ]
  },
  {
   "cell_type": "code",
   "execution_count": 38,
   "metadata": {},
   "outputs": [
    {
     "name": "stdout",
     "output_type": "stream",
     "text": [
      "385\n"
     ]
    }
   ],
   "source": [
    "### YOUR CODE GOES BELOW\n",
    "\n",
    "# continue using squareValues dictionary from above exercise\n",
    "totalSum = 0\n",
    "for key in squareValues.keys():\n",
    "    totalSum = totalSum + squareValues[key]\n",
    "\n",
    "print totalSum\n",
    "\n",
    "### END CODE"
   ]
  },
  {
   "cell_type": "markdown",
   "metadata": {},
   "source": [
    "#### Exercise 9\n",
    "\n",
    "Write a Python program to sort the below dictionary by key in descending order. \n",
    "\n",
    " {2:\"Mary\",1:\"Sally\",5:\"Harry\",4:\"Joe\"}\n",
    " \n",
    "**Hint:** Refer to the class example"
   ]
  },
  {
   "cell_type": "code",
   "execution_count": 49,
   "metadata": {},
   "outputs": [
    {
     "name": "stdout",
     "output_type": "stream",
     "text": [
      "5 Harry\n",
      "4 Joe\n",
      "2 Mary\n",
      "1 Sally\n"
     ]
    }
   ],
   "source": [
    "### YOUR CODE GOES BELOW\n",
    "\n",
    "dict = {2:\"Mary\", 1:\"Sally\", 5:\"Harry\", 4:\"Joe\"}\n",
    "\n",
    "keys = dict.keys()\n",
    "\n",
    "sortedKeys = []\n",
    "while(len(keys)>0):\n",
    "    key = max(keys)\n",
    "    sortedKeys.append(key)\n",
    "    keys.remove(key)\n",
    "    ##for teting\n",
    "    #print sortedKeys\n",
    "\n",
    "newDict = {}\n",
    "# create new dictionary\n",
    "for key in sortedKeys:\n",
    "    newDict[key] = dict[key]\n",
    "    ## for testing\n",
    "    print(\"%s %s\" % (key, newDict[key]))\n",
    "    \n",
    "#print(\"original dictionary: \", dict)\n",
    "#print(\"Sorted dictionary: \", newDict)\n",
    "\n",
    "### END CODE"
   ]
  },
  {
   "cell_type": "markdown",
   "metadata": {},
   "source": [
    "#### Exercise 10\n",
    "\n",
    "Write a python program to combine the below two dictionaries and display the resulting dictionary\n",
    "\n",
    "* Dictionary 1:  {2:\"Mary\",1:\"Sally\",5:\"Harry\",4:\"Joe\"}\n",
    "* Dictionary 2:  {6:\"John\",9:\"Nancy\",12:\"Peter\",8:\"Alice\"}\n",
    " "
   ]
  },
  {
   "cell_type": "code",
   "execution_count": 39,
   "metadata": {},
   "outputs": [
    {
     "name": "stdout",
     "output_type": "stream",
     "text": [
      "{1: 'Sally', 2: 'Mary', 4: 'Joe', 5: 'Harry', 6: 'John', 8: 'Alice', 9: 'Nancy', 12: 'Peter'}\n"
     ]
    }
   ],
   "source": [
    "### YOUR CODE GOES BELOW\n",
    "dict1 = {2:\"Mary\", 1:\"Sally\", 5:\"Harry\", 4:\"Joe\"}\n",
    "dict2 = {6:\"John\", 9:\"Nancy\", 12:\"Peter\", 8:\"Alice\"}\n",
    "newDict = {} # empty dictionary\n",
    "for dict in [dict1, dict2]:\n",
    "    for key in dict.keys():\n",
    "        newDict[key] = dict[key]\n",
    "        \n",
    "print newDict\n",
    "\n",
    "### END CODE"
   ]
  },
  {
   "cell_type": "code",
   "execution_count": null,
   "metadata": {
    "collapsed": true
   },
   "outputs": [],
   "source": []
  }
 ],
 "metadata": {
  "kernelspec": {
   "display_name": "Python 2",
   "language": "python",
   "name": "python2"
  },
  "language_info": {
   "codemirror_mode": {
    "name": "ipython",
    "version": 2
   },
   "file_extension": ".py",
   "mimetype": "text/x-python",
   "name": "python",
   "nbconvert_exporter": "python",
   "pygments_lexer": "ipython2",
   "version": "2.7.13"
  }
 },
 "nbformat": 4,
 "nbformat_minor": 2
}
