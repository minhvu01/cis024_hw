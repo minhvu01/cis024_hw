{
 "cells": [
  {
   "cell_type": "markdown",
   "metadata": {},
   "source": [
    "\n",
    "# CIS024C - Fall 2017 - Thursday 5:30-9:25pm \n",
    "\n",
    "## Homework 5\n",
    "\n",
    "Homework 5 covers exercises that involve working with files\n",
    "\n",
    "The below sites have some interesting and useful information on working with files\n",
    "\n",
    "http://www.pythonforbeginners.com/files/reading-and-writing-files-in-python\n",
    "\n",
    "You will need to download this notebook and use this as a starting point for your homework. You will just need to fill in the content of each code-block (cell) and execute. Once you have completed all the exercises, you will need to save and upload this to your github repository under a folder called hw5.\n",
    "\n",
    "Note also the exercises build on top of one another so you might be able to do the next exercise if you have not completed the previous exercise.\n",
    "\n",
    "Post any questions you have on our Slack at **cis-024c1.slack.com**\n",
    "\n",
    "<h3><font color='red'>\n",
    "ALL THE WORK THAT WE DID IN CLASS DURING WEEK 5 IS NOW IN GITHUB AT THE BELOW LINK\n",
    "</font></h3>\n",
    "\n",
    "https://github.com/cis024c/fall2017classwork/blob/master/week5/working_with_files.ipynb\n",
    "\n",
    "** Slides ** for Week 5 can be found at \n",
    "\n",
    "https://docs.google.com/presentation/d/16cRqqIoZl15gX5QC2oEvS8NuUiPrhzOyC5UerGpuWOM/edit?usp=sharing\n",
    "\n",
    "**Please refer back to hw1 and slack for instructions on how to setup your computer for developing using Python.**"
   ]
  },
  {
   "cell_type": "markdown",
   "metadata": {},
   "source": [
    "### Helpful Jupyter Commands\n",
    "\n",
    "Below are some useful commands to know when using Jupyter\n",
    "\n",
    "1. You can add a new cell by clicking on the \"+\" icon on top.\n",
    "2. You can delete a cell by selecting that cell and clicking on the \"scissors\" icon on top.\n",
    "3. You can execute a cell by either pressing shift+enter or selecting the \"play\" button on top.\n",
    "4. You can create a new file in Jupyter via the File menu->New Notebook option. Make sure to select Python 2 when creating your notebook.\n",
    "5. Also, for your code blocks make sure that Code is selected instead of another option like Markdown.\n",
    "6. Use the Enter key to go to the next line in a cell to enter the next statement.\n",
    "7. You can clear results by clicking on the Cell menu item and selecting Current Output->Clear or All Output->Clear depending on whether you are trying to just clear the output for one cell or for all cells.\n",
    "8. In case your program has crashed for some reason (infinite loop, for example), you can restart your Python session by select Kernel in the menu and selecting Restart.\n"
   ]
  },
  {
   "cell_type": "markdown",
   "metadata": {},
   "source": [
    "#### Check Python Version"
   ]
  },
  {
   "cell_type": "code",
   "execution_count": 1,
   "metadata": {},
   "outputs": [
    {
     "name": "stderr",
     "output_type": "stream",
     "text": [
      "Python 2.7.13 :: Anaconda 4.4.0 (64-bit)\n"
     ]
    }
   ],
   "source": [
    "!python --version"
   ]
  },
  {
   "cell_type": "markdown",
   "metadata": {},
   "source": [
    "#### Sample Exercises with conditionals and repetitions\n",
    "\n",
    "Refer to Week 5 classwork for sample exercises - \n",
    "\n",
    "https://github.com/cis024c/fall2017classwork/tree/master/week5"
   ]
  },
  {
   "cell_type": "markdown",
   "metadata": {},
   "source": [
    "**Exercise 1 - Testing your knowledge of files **\n",
    "\n",
    "Answer the below questions\n",
    "\n",
    "1. In your own words, describe what a **file** is?\n",
    "2. Why is it important to close a file after we are done using it?"
   ]
  },
  {
   "cell_type": "markdown",
   "metadata": {},
   "source": [
    "1. File is a way system stores data on the system and retrieves data later.\n",
    "2. It is important to close file since there are limited file handles available for system."
   ]
  },
  {
   "cell_type": "markdown",
   "metadata": {},
   "source": [
    "#### Exercise 2 -  Write to a file\n",
    "\n",
    "Write a python program to write the below lines to a file\n",
    "\n",
    "- Name, Age, Gender, Profession\n",
    "- Harry, 23, Male, Software Engineer\n",
    "- Sam, 25, Male, Lawyer\n",
    "- Lisa, 29, Female, Computer Scientist\n",
    "- Mary, 22, Female, Doctor\n",
    "\n",
    "Below are a set of recommended steps to accomplish this\n",
    "1. open a file in write mode. This will return a handle to the file\n",
    "2. use the write method to write each line to the file using the file handle returned in the open call\n",
    "3. close the file when done\n",
    "\n",
    "Once done, go to the folder where the file is and open it to make sure that this is written.\n",
    "\n",
    "Refer to class exercises especially \"In [22]\" in https://github.com/cis024c/fall2017classwork/blob/master/week5/working_with_files.ipynb"
   ]
  },
  {
   "cell_type": "code",
   "execution_count": 7,
   "metadata": {
    "collapsed": true
   },
   "outputs": [],
   "source": [
    "### YOUR CODE GOES \n",
    "#open file in write mode\n",
    "outFileHandle = open(\"hw5.txt\", \"w\")\n",
    "header = \"Name,Age,Gender,Profession\\n\"\n",
    "# write header\n",
    "outFileHandle.write(header)\n",
    "# initialize all records into a list\n",
    "lines = [\"Harry,23,Male,Software Engineer\",\"Sam,25,Male,Lawyer\",\"Lisa,29,Female,Computer Scientist\",\"Mary,22,Female,Doctor\"]\n",
    "\n",
    "#use for loop to write into file\n",
    "for line in lines:\n",
    "    outFileHandle.write(\"%s\\n\" % (line))\n",
    "    \n",
    "#close file when done\n",
    "outFileHandle.close()\n",
    "\n",
    "### END CODE"
   ]
  },
  {
   "cell_type": "markdown",
   "metadata": {},
   "source": [
    "#### Exercise 3 - Reading from a file\n",
    "\n",
    "Read and display the data from the file you had just written to.\n",
    "\n",
    "Below are a set of recommended steps to accomplish this\n",
    "1. open the file in read mode. This will return a handle to the file.\n",
    "2. You can now iterate through each line in the file  and then use readline to read each line.\n",
    "3. Display each line as you read it in\n",
    "\n",
    "Note that you can also use the **read** method to read in all lines or the **readlines** method to read all lines into a list."
   ]
  },
  {
   "cell_type": "code",
   "execution_count": 16,
   "metadata": {},
   "outputs": [
    {
     "name": "stdout",
     "output_type": "stream",
     "text": [
      "Name,Age,Gender,Profession\n",
      "Harry,23,Male,Software Engineer\n",
      "Sam,25,Male,Lawyer\n",
      "Lisa,29,Female,Computer Scientist\n",
      "Mary,22,Female,Doctor\n"
     ]
    }
   ],
   "source": [
    "### YOUR CODE GOES BELOW\n",
    "\n",
    "# open file in read mode\n",
    "inFileHandle = open(\"hw5.txt\",\"r\")\n",
    "\n",
    "# read one line at a time. supress newline at the end\n",
    "for line in inFileHandle:\n",
    "    print(line),\n",
    "\n",
    "#close file   \n",
    "inFileHandle.close()\n",
    "### END CODE"
   ]
  },
  {
   "cell_type": "markdown",
   "metadata": {},
   "source": [
    "#### Exercise 4 - Finding the average age of users in a file\n",
    "\n",
    "Write a python program to find the average age of users in the file you just created.\n",
    "\n",
    "Below are a set of recommended steps to accomplish this\n",
    "1. Open the file in read mode\n",
    "2. Read in each line of the file\n",
    "3. Split each line in the file to get the age\n",
    "4. Find the average age and display it"
   ]
  },
  {
   "cell_type": "code",
   "execution_count": 24,
   "metadata": {},
   "outputs": [
    {
     "name": "stdout",
     "output_type": "stream",
     "text": [
      "Average age is: 24.75\n"
     ]
    }
   ],
   "source": [
    "### YOUR CODE GOES BELOW\n",
    "# open file in read mode\n",
    "inFileHandle = open(\"hw5.txt\",\"r\")\n",
    "\n",
    "# skip the first line - header\n",
    "inFileHandle.next()\n",
    "# read one line at a time. supress newline at the end\n",
    "count = 0  # initialize count \n",
    "sumOfAge = 0 # initialize sum of age\n",
    "#loop through one line at a time\n",
    "for line in inFileHandle:\n",
    "    name,age,gender,profession = line.split(\",\")\n",
    "    count += 1\n",
    "    sumOfAge += int(age)\n",
    "    ## for testing\n",
    "    #print(name,age)\n",
    "\n",
    "#print average age.    \n",
    "print(\"Average age is: %.2f\" % (sumOfAge/float(count)))\n",
    "\n",
    "# close file\n",
    "inFileHandle.close()\n",
    "\n",
    "### END CODE"
   ]
  },
  {
   "cell_type": "markdown",
   "metadata": {},
   "source": [
    "#### Exercise 5 - Appending to a file\n",
    "\n",
    "Write a python program to append information provided by users to an existing file. \n",
    "\n",
    "You will need to \n",
    "1.  ask the user to enter their name, age, gender and profession using the **raw_input** method (for Python 3 users, you will use the **input** method).\n",
    "2.  open the file you just created in the above exercies in append mode and write this information to the file.\n",
    "\n",
    "Remember to make sure that the information you append is entered in the same format where each field is separated by commas.\n",
    "\n"
   ]
  },
  {
   "cell_type": "code",
   "execution_count": 19,
   "metadata": {},
   "outputs": [
    {
     "name": "stdout",
     "output_type": "stream",
     "text": [
      "File Content before adding new records.\n",
      "\n",
      "Name,Age,Gender,Profession\n",
      "Harry,23,Male,Software Engineer\n",
      "Sam,25,Male,Lawyer\n",
      "Lisa,29,Female,Computer Scientist\n",
      "Mary,22,Female,Doctor\n",
      "\n",
      "Please enter your name,age,gender,profession(comma separated, enter to exit): Jason, 40, Male, Electrical Engineer\n",
      "Please enter your name,age,gender,profession(comma separated, enter to exit): Mathew, 15, Male, Student\n",
      "Please enter your name,age,gender,profession(comma separated, enter to exit): \n",
      "Bye.\n",
      "\n",
      "File Content after adding new records.\n",
      "\n",
      "Name,Age,Gender,Profession\n",
      "Harry,23,Male,Software Engineer\n",
      "Sam,25,Male,Lawyer\n",
      "Lisa,29,Female,Computer Scientist\n",
      "Mary,22,Female,Doctor\n",
      "Jason,40,Male,Electrical Engineer\n",
      "Mathew,15,Male,Student\n"
     ]
    }
   ],
   "source": [
    "### YOUR CODE GOES BELOW\n",
    "\n",
    "#################################################\n",
    "## check file content before entering new records\n",
    "#################################################\n",
    "print(\"File Content before adding new records.\\n\")\n",
    "fileHandle = open(\"hw5.txt\",\"r\")\n",
    "for line in fileHandle:\n",
    "    print(line),\n",
    "fileHandle.close()\n",
    "print(\"\")\n",
    "\n",
    "#################################################\n",
    "## exercise 5 start from here\n",
    "#################################################\n",
    "## open file in append mode\n",
    "fileHandle = open(\"hw5.txt\",\"a\")\n",
    "\n",
    "# continue until user just presses enter key, then exit \n",
    "while True:\n",
    "    userInput = raw_input(\"Please enter your name,age,gender,profession(comma separated, enter to exit): \")\n",
    "    userInput.strip(\"\\n\")  # strip new line for compare later\n",
    "    if userInput == \"\":\n",
    "        ##if user just press enter, then exit\n",
    "        print(\"Bye.\\n\")\n",
    "        break\n",
    "    else:\n",
    "        ## split user input into words, strip leading and trailing spaces of each field\n",
    "        ## to make sure uniform of data.\n",
    "        #print(\"befor: %s\" % (userInput))\n",
    "        ## split into a list by comma\n",
    "        words = userInput.split(\",\")\n",
    "        ##empty line\n",
    "        line = \"\"\n",
    "        ##loop throuhg each word\n",
    "        for temp in words:\n",
    "            word = temp.strip()\n",
    "            if line == \"\":\n",
    "                line = word\n",
    "            else:\n",
    "                line = line + \",\" + word\n",
    "    \n",
    "    ##add new line\n",
    "    line = line + \"\\n\"        \n",
    "    ##should have no space between fields\n",
    "    #print(\"After: %s\" % (line)),\n",
    "    fileHandle.write(line)\n",
    "    \n",
    "## close file\n",
    "fileHandle.close()\n",
    "\n",
    "#################################################\n",
    "## check file content after entering new records\n",
    "#################################################\n",
    "print(\"File Content after adding new records.\\n\")\n",
    "fileHandle = open(\"hw5.txt\",\"r\")\n",
    "for line in fileHandle:\n",
    "    print(line),\n",
    "fileHandle.close()\n",
    "\n",
    "### END CODE"
   ]
  },
  {
   "cell_type": "code",
   "execution_count": null,
   "metadata": {
    "collapsed": true
   },
   "outputs": [],
   "source": [
    "## OPTIONAL EXERCISES\n",
    "\n",
    "Below is a set of optional exercises. These will not be graded but the solutions will be posted. I would strongly encourage you to try these out if you are done with the mandatory homework exercises to improve your understanding of python."
   ]
  },
  {
   "cell_type": "markdown",
   "metadata": {},
   "source": [
    "#### NOTE \n",
    "\n",
    "For this program you will need to download the full text of Alice in Wonderland. This is available at this link http://www.gutenberg.org/files/11/11-0.txt\n",
    "\n",
    "For MAC users, you can download this directly from Jupyter by executing the below cell. Windows users might need to click on the link and download the file and save it to your computer. "
   ]
  },
  {
   "cell_type": "code",
   "execution_count": 21,
   "metadata": {},
   "outputs": [
    {
     "name": "stdout",
     "output_type": "stream",
     "text": [
      "  % Total    % Received % Xferd  Average Speed   Time    Time     Time  Current\n",
      "                                 Dload  Upload   Total   Spent    Left  Speed\n",
      "100  169k  100  169k    0     0   242k      0 --:--:-- --:--:-- --:--:--  242k\n"
     ]
    }
   ],
   "source": [
    "# download alice text\n",
    "!curl 'http://www.gutenberg.org/files/11/11-0.txt' -o aliceText.txt"
   ]
  },
  {
   "cell_type": "markdown",
   "metadata": {},
   "source": [
    "#### Exercise 6\n",
    "\n",
    "Write a program to read the file aliceText.txt and count the number of times that the word \"house\" occurs in the text."
   ]
  },
  {
   "cell_type": "code",
   "execution_count": 66,
   "metadata": {},
   "outputs": [
    {
     "name": "stdout",
     "output_type": "stream",
     "text": [
      "house!’\n",
      "house,\n",
      "houses,\n",
      "house\n",
      "house,\n",
      "housemaid,’\n",
      "house,\n",
      "house\n",
      "house\n",
      "house,\n",
      "house\n",
      "house,\n",
      "house\n",
      "house\n",
      "house,\n",
      "house\n",
      "house\n",
      "house,\n",
      "house,\n",
      "house,\n",
      "\n",
      "house found 20 times.\n"
     ]
    }
   ],
   "source": [
    "### YOUR CODE GOES BELOW\n",
    "\n",
    "fileHandle = open(\"aliceText.txt\",\"r\")\n",
    "searchedWord = \"house\"  # case insensitive.\n",
    "count = 0\n",
    "for line in fileHandle:\n",
    "    #print(line),\n",
    "    words = line.split()\n",
    "    for word in words:\n",
    "        if searchedWord in word.lower():\n",
    "            print(word)  # for testing\n",
    "            count += 1\n",
    "\n",
    "print(\"\\n%s found %d times.\" % (searchedWord, count))\n",
    "fileHandle.close()\n",
    "\n",
    "### END CODE"
   ]
  },
  {
   "cell_type": "markdown",
   "metadata": {},
   "source": [
    "#### Exercise 7\n",
    "\n",
    "Write a python program to read the file aliceText.txt and find \n",
    "\n",
    "* the number of characters in the file\n",
    "* the number of words in the file\n",
    "* the number of lines in the file\n",
    "\n",
    "Display the result"
   ]
  },
  {
   "cell_type": "code",
   "execution_count": 32,
   "metadata": {},
   "outputs": [
    {
     "name": "stdout",
     "output_type": "stream",
     "text": [
      "Line counts: 3736\n",
      "Word counts: 29465\n",
      "Character counts: 138150\n"
     ]
    }
   ],
   "source": [
    "### YOUR CODE GOES BELOW\n",
    "fileHandle = open(\"aliceText.txt\",\"r\")\n",
    "lineCount = 0 # init lineCount\n",
    "wordCount = 0 # init wordCount\n",
    "charCount = 0 # init charCount\n",
    "\n",
    "## loop through file\n",
    "for line in fileHandle:\n",
    "    lineCount += 1  # increment lineCount including blank lines\n",
    "    words = line.split()\n",
    "    wordCount += len(words)  # adding number of words\n",
    "    for word in words:\n",
    "        charCount += len(word)  # adding number of characters\n",
    "        \n",
    "print(\"Line counts: %d\" % (lineCount))\n",
    "print(\"Word counts: %d\" % (wordCount))\n",
    "print(\"Character counts (no space): %d\" % (charCount))\n",
    "\n",
    "## close file\n",
    "fileHandle.close()\n",
    "### END CODE"
   ]
  },
  {
   "cell_type": "markdown",
   "metadata": {},
   "source": [
    "#### Exercise 8\n",
    "\n",
    "Write a Python program to read the file aliceText.txt and find the top 10 most frequent words in the file. Display the result\n",
    "\n",
    "Below are recommended steps for this program\n",
    "\n",
    "* Read the contents of the file\n",
    "* Initialize a dictionary to maintain the counts of each word\n",
    "* Loop through each word in the file\n",
    "    - If the word is new, then add to dictionary and initialize count to 1 for this word\n",
    "    - If the word is already in the dictionary, then increment the count of that word by 1\n",
    "* Use the **sorted** method to sort all values in descending order  - See the **example** code at the end of this assignment for an example on sorting a dictionary in reverse order by value"
   ]
  },
  {
   "cell_type": "code",
   "execution_count": 89,
   "metadata": {},
   "outputs": [
    {
     "name": "stdout",
     "output_type": "stream",
     "text": [
      "The top 10 frequent words in file:\n",
      "('the', 1777)\n",
      "('and', 833)\n",
      "('to', 782)\n",
      "('a', 670)\n",
      "('of', 610)\n",
      "('she', 518)\n",
      "('said', 421)\n",
      "('in', 412)\n",
      "('it', 374)\n",
      "('was', 334)\n"
     ]
    }
   ],
   "source": [
    "### YOUR CODE GOES BELOW\n",
    "\n",
    "########################################################\n",
    "## open file aliceText.txt\n",
    "## read one line at a time,\n",
    "##    strip new line from each line,\n",
    "##    if stripped line not equal to empty line,\n",
    "##       then split by space, put all chars in lower case,\n",
    "##       strip all leading and trailing spaces.\n",
    "#######################################################\n",
    "fileHandle = open(\"aliceText.txt\",\"r\")\n",
    "myDict = {}\n",
    "for temp in fileHandle:\n",
    "    line = temp.strip(\"\\n\")\n",
    "    if line != \"\":\n",
    "        words = line.split()\n",
    "        for word in words:\n",
    "            lword = word.lower().strip()\n",
    "            if myDict.get(lword):\n",
    "                myDict[lword] += 1\n",
    "            else:\n",
    "                myDict[lword] = 1\n",
    "\n",
    "fileHandle.close()\n",
    "\n",
    "######################################################################################\n",
    "## output the first 10 words with highest counts\n",
    "## put all keys in a key list\n",
    "## put all values in value list\n",
    "##    get max number of of value list, and its index\n",
    "##    print out key and value\n",
    "##    set value to 0\n",
    "##    repeate 1-3 while count <= ending.\n",
    "######################################################################################\n",
    "## this is for testing \n",
    "#myDict = {'seven': 7, 'four': 4, 'one': 1, 'two': 2, 'five': 5, 'eight': 8, 'three': 3, 'six': 6, 'nine': 9, 'ten': 10, 'eleven': 11}\n",
    "myKeys = myDict.keys()\n",
    "myValues = myDict.values()\n",
    "\n",
    "## change ending to extend the top numbers\n",
    "ending = 10  # the first \"ending\" numbers\n",
    "count = 1    # init count\n",
    "\n",
    "print(\"The top %d frequent words in file:\" % (ending))\n",
    "while count <= ending:\n",
    "    # get index of max value\n",
    "    index = myValues.index(max(myValues))\n",
    "    print(myKeys[index],myValues[index])\n",
    "    # set max value to 0\n",
    "    myValues[index] = 0\n",
    "    #print(myKeys,myValues)\n",
    "    count += 1\n",
    "\n",
    "\n",
    "### END CODE"
   ]
  },
  {
   "cell_type": "markdown",
   "metadata": {},
   "source": [
    "#### Example code for sorting a dictionary by value in reverse order"
   ]
  },
  {
   "cell_type": "code",
   "execution_count": 26,
   "metadata": {},
   "outputs": [
    {
     "name": "stdout",
     "output_type": "stream",
     "text": [
      "eight 8\n",
      "seven 7\n",
      "five 5\n",
      "four 4\n",
      "two 2\n",
      "one 1\n"
     ]
    }
   ],
   "source": [
    "myDict = {'seven': 7, 'four': 4, 'one': 1, 'two': 2, 'five': 5, 'eight': 8} \n",
    "sortedDict = sorted(myDict, key=myDict.get, reverse=True)\n",
    "\n",
    "for key in sortedDict:\n",
    "    print key,myDict[key]"
   ]
  },
  {
   "cell_type": "code",
   "execution_count": null,
   "metadata": {
    "collapsed": true
   },
   "outputs": [],
   "source": []
  }
 ],
 "metadata": {
  "kernelspec": {
   "display_name": "Python 2",
   "language": "python",
   "name": "python2"
  },
  "language_info": {
   "codemirror_mode": {
    "name": "ipython",
    "version": 2
   },
   "file_extension": ".py",
   "mimetype": "text/x-python",
   "name": "python",
   "nbconvert_exporter": "python",
   "pygments_lexer": "ipython2",
   "version": "2.7.13"
  }
 },
 "nbformat": 4,
 "nbformat_minor": 2
}
